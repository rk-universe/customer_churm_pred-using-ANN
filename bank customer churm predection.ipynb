{
 "cells": [
  {
   "cell_type": "code",
   "execution_count": 1,
   "metadata": {
    "_cell_guid": "b1076dfc-b9ad-4769-8c92-a6c4dae69d19",
    "_uuid": "8f2839f25d086af736a60e9eeb907d3b93b6e0e5",
    "execution": {
     "iopub.execute_input": "2022-03-06T03:32:33.905991Z",
     "iopub.status.busy": "2022-03-06T03:32:33.905585Z",
     "iopub.status.idle": "2022-03-06T03:32:33.939484Z",
     "shell.execute_reply": "2022-03-06T03:32:33.938880Z",
     "shell.execute_reply.started": "2022-03-06T03:32:33.905892Z"
    },
    "scrolled": true
   },
   "outputs": [],
   "source": [
    "import numpy as np\n",
    "import pandas as pd \n",
    "from imblearn.over_sampling import SMOTE\n"
   ]
  },
  {
   "cell_type": "code",
   "execution_count": 2,
   "metadata": {
    "execution": {
     "iopub.execute_input": "2022-03-06T03:32:56.586925Z",
     "iopub.status.busy": "2022-03-06T03:32:56.586618Z",
     "iopub.status.idle": "2022-03-06T03:32:56.633466Z",
     "shell.execute_reply": "2022-03-06T03:32:56.632634Z",
     "shell.execute_reply.started": "2022-03-06T03:32:56.586892Z"
    }
   },
   "outputs": [],
   "source": [
    "df = pd.read_csv('dataset2csv.csv')"
   ]
  },
  {
   "cell_type": "code",
   "execution_count": 3,
   "metadata": {
    "execution": {
     "iopub.execute_input": "2022-03-06T03:33:04.565582Z",
     "iopub.status.busy": "2022-03-06T03:33:04.565302Z",
     "iopub.status.idle": "2022-03-06T03:33:04.590711Z",
     "shell.execute_reply": "2022-03-06T03:33:04.590106Z",
     "shell.execute_reply.started": "2022-03-06T03:33:04.565552Z"
    }
   },
   "outputs": [
    {
     "data": {
      "text/html": [
       "<div>\n",
       "<style scoped>\n",
       "    .dataframe tbody tr th:only-of-type {\n",
       "        vertical-align: middle;\n",
       "    }\n",
       "\n",
       "    .dataframe tbody tr th {\n",
       "        vertical-align: top;\n",
       "    }\n",
       "\n",
       "    .dataframe thead th {\n",
       "        text-align: right;\n",
       "    }\n",
       "</style>\n",
       "<table border=\"1\" class=\"dataframe\">\n",
       "  <thead>\n",
       "    <tr style=\"text-align: right;\">\n",
       "      <th></th>\n",
       "      <th>RowNumber</th>\n",
       "      <th>CustomerId</th>\n",
       "      <th>Surname</th>\n",
       "      <th>CreditScore</th>\n",
       "      <th>Geography</th>\n",
       "      <th>Gender</th>\n",
       "      <th>Age</th>\n",
       "      <th>Tenure</th>\n",
       "      <th>Balance</th>\n",
       "      <th>NumOfProducts</th>\n",
       "      <th>HasCrCard</th>\n",
       "      <th>IsActiveMember</th>\n",
       "      <th>EstimatedSalary</th>\n",
       "      <th>Exited</th>\n",
       "    </tr>\n",
       "  </thead>\n",
       "  <tbody>\n",
       "    <tr>\n",
       "      <th>0</th>\n",
       "      <td>1</td>\n",
       "      <td>15634602</td>\n",
       "      <td>Hargrave</td>\n",
       "      <td>619</td>\n",
       "      <td>France</td>\n",
       "      <td>Female</td>\n",
       "      <td>42</td>\n",
       "      <td>2</td>\n",
       "      <td>0.00</td>\n",
       "      <td>1</td>\n",
       "      <td>1</td>\n",
       "      <td>1</td>\n",
       "      <td>101348.88</td>\n",
       "      <td>1</td>\n",
       "    </tr>\n",
       "    <tr>\n",
       "      <th>1</th>\n",
       "      <td>2</td>\n",
       "      <td>15647311</td>\n",
       "      <td>Hill</td>\n",
       "      <td>608</td>\n",
       "      <td>Spain</td>\n",
       "      <td>Female</td>\n",
       "      <td>41</td>\n",
       "      <td>1</td>\n",
       "      <td>83807.86</td>\n",
       "      <td>1</td>\n",
       "      <td>0</td>\n",
       "      <td>1</td>\n",
       "      <td>112542.58</td>\n",
       "      <td>0</td>\n",
       "    </tr>\n",
       "    <tr>\n",
       "      <th>2</th>\n",
       "      <td>3</td>\n",
       "      <td>15619304</td>\n",
       "      <td>Onio</td>\n",
       "      <td>502</td>\n",
       "      <td>France</td>\n",
       "      <td>Female</td>\n",
       "      <td>42</td>\n",
       "      <td>8</td>\n",
       "      <td>159660.80</td>\n",
       "      <td>3</td>\n",
       "      <td>1</td>\n",
       "      <td>0</td>\n",
       "      <td>113931.57</td>\n",
       "      <td>1</td>\n",
       "    </tr>\n",
       "    <tr>\n",
       "      <th>3</th>\n",
       "      <td>4</td>\n",
       "      <td>15701354</td>\n",
       "      <td>Boni</td>\n",
       "      <td>699</td>\n",
       "      <td>France</td>\n",
       "      <td>Female</td>\n",
       "      <td>39</td>\n",
       "      <td>1</td>\n",
       "      <td>0.00</td>\n",
       "      <td>2</td>\n",
       "      <td>0</td>\n",
       "      <td>0</td>\n",
       "      <td>93826.63</td>\n",
       "      <td>0</td>\n",
       "    </tr>\n",
       "    <tr>\n",
       "      <th>4</th>\n",
       "      <td>5</td>\n",
       "      <td>15737888</td>\n",
       "      <td>Mitchell</td>\n",
       "      <td>850</td>\n",
       "      <td>Spain</td>\n",
       "      <td>Female</td>\n",
       "      <td>43</td>\n",
       "      <td>2</td>\n",
       "      <td>125510.82</td>\n",
       "      <td>1</td>\n",
       "      <td>1</td>\n",
       "      <td>1</td>\n",
       "      <td>79084.10</td>\n",
       "      <td>0</td>\n",
       "    </tr>\n",
       "  </tbody>\n",
       "</table>\n",
       "</div>"
      ],
      "text/plain": [
       "   RowNumber  CustomerId   Surname  CreditScore Geography  Gender  Age  \\\n",
       "0          1    15634602  Hargrave          619    France  Female   42   \n",
       "1          2    15647311      Hill          608     Spain  Female   41   \n",
       "2          3    15619304      Onio          502    France  Female   42   \n",
       "3          4    15701354      Boni          699    France  Female   39   \n",
       "4          5    15737888  Mitchell          850     Spain  Female   43   \n",
       "\n",
       "   Tenure    Balance  NumOfProducts  HasCrCard  IsActiveMember  \\\n",
       "0       2       0.00              1          1               1   \n",
       "1       1   83807.86              1          0               1   \n",
       "2       8  159660.80              3          1               0   \n",
       "3       1       0.00              2          0               0   \n",
       "4       2  125510.82              1          1               1   \n",
       "\n",
       "   EstimatedSalary  Exited  \n",
       "0        101348.88       1  \n",
       "1        112542.58       0  \n",
       "2        113931.57       1  \n",
       "3         93826.63       0  \n",
       "4         79084.10       0  "
      ]
     },
     "execution_count": 3,
     "metadata": {},
     "output_type": "execute_result"
    }
   ],
   "source": [
    "df.head()"
   ]
  },
  {
   "cell_type": "code",
   "execution_count": 4,
   "metadata": {
    "execution": {
     "iopub.execute_input": "2022-03-06T03:33:16.956409Z",
     "iopub.status.busy": "2022-03-06T03:33:16.956107Z",
     "iopub.status.idle": "2022-03-06T03:33:16.969099Z",
     "shell.execute_reply": "2022-03-06T03:33:16.968191Z",
     "shell.execute_reply.started": "2022-03-06T03:33:16.956376Z"
    }
   },
   "outputs": [],
   "source": [
    "df.drop(columns = ['RowNumber','CustomerId','Surname'],inplace=True)"
   ]
  },
  {
   "cell_type": "code",
   "execution_count": 5,
   "metadata": {
    "execution": {
     "iopub.execute_input": "2022-03-06T03:33:25.597651Z",
     "iopub.status.busy": "2022-03-06T03:33:25.596737Z",
     "iopub.status.idle": "2022-03-06T03:33:25.613054Z",
     "shell.execute_reply": "2022-03-06T03:33:25.612113Z",
     "shell.execute_reply.started": "2022-03-06T03:33:25.597603Z"
    }
   },
   "outputs": [
    {
     "data": {
      "text/html": [
       "<div>\n",
       "<style scoped>\n",
       "    .dataframe tbody tr th:only-of-type {\n",
       "        vertical-align: middle;\n",
       "    }\n",
       "\n",
       "    .dataframe tbody tr th {\n",
       "        vertical-align: top;\n",
       "    }\n",
       "\n",
       "    .dataframe thead th {\n",
       "        text-align: right;\n",
       "    }\n",
       "</style>\n",
       "<table border=\"1\" class=\"dataframe\">\n",
       "  <thead>\n",
       "    <tr style=\"text-align: right;\">\n",
       "      <th></th>\n",
       "      <th>CreditScore</th>\n",
       "      <th>Geography</th>\n",
       "      <th>Gender</th>\n",
       "      <th>Age</th>\n",
       "      <th>Tenure</th>\n",
       "      <th>Balance</th>\n",
       "      <th>NumOfProducts</th>\n",
       "      <th>HasCrCard</th>\n",
       "      <th>IsActiveMember</th>\n",
       "      <th>EstimatedSalary</th>\n",
       "      <th>Exited</th>\n",
       "    </tr>\n",
       "  </thead>\n",
       "  <tbody>\n",
       "    <tr>\n",
       "      <th>0</th>\n",
       "      <td>619</td>\n",
       "      <td>France</td>\n",
       "      <td>Female</td>\n",
       "      <td>42</td>\n",
       "      <td>2</td>\n",
       "      <td>0.00</td>\n",
       "      <td>1</td>\n",
       "      <td>1</td>\n",
       "      <td>1</td>\n",
       "      <td>101348.88</td>\n",
       "      <td>1</td>\n",
       "    </tr>\n",
       "    <tr>\n",
       "      <th>1</th>\n",
       "      <td>608</td>\n",
       "      <td>Spain</td>\n",
       "      <td>Female</td>\n",
       "      <td>41</td>\n",
       "      <td>1</td>\n",
       "      <td>83807.86</td>\n",
       "      <td>1</td>\n",
       "      <td>0</td>\n",
       "      <td>1</td>\n",
       "      <td>112542.58</td>\n",
       "      <td>0</td>\n",
       "    </tr>\n",
       "    <tr>\n",
       "      <th>2</th>\n",
       "      <td>502</td>\n",
       "      <td>France</td>\n",
       "      <td>Female</td>\n",
       "      <td>42</td>\n",
       "      <td>8</td>\n",
       "      <td>159660.80</td>\n",
       "      <td>3</td>\n",
       "      <td>1</td>\n",
       "      <td>0</td>\n",
       "      <td>113931.57</td>\n",
       "      <td>1</td>\n",
       "    </tr>\n",
       "    <tr>\n",
       "      <th>3</th>\n",
       "      <td>699</td>\n",
       "      <td>France</td>\n",
       "      <td>Female</td>\n",
       "      <td>39</td>\n",
       "      <td>1</td>\n",
       "      <td>0.00</td>\n",
       "      <td>2</td>\n",
       "      <td>0</td>\n",
       "      <td>0</td>\n",
       "      <td>93826.63</td>\n",
       "      <td>0</td>\n",
       "    </tr>\n",
       "    <tr>\n",
       "      <th>4</th>\n",
       "      <td>850</td>\n",
       "      <td>Spain</td>\n",
       "      <td>Female</td>\n",
       "      <td>43</td>\n",
       "      <td>2</td>\n",
       "      <td>125510.82</td>\n",
       "      <td>1</td>\n",
       "      <td>1</td>\n",
       "      <td>1</td>\n",
       "      <td>79084.10</td>\n",
       "      <td>0</td>\n",
       "    </tr>\n",
       "  </tbody>\n",
       "</table>\n",
       "</div>"
      ],
      "text/plain": [
       "   CreditScore Geography  Gender  Age  Tenure    Balance  NumOfProducts  \\\n",
       "0          619    France  Female   42       2       0.00              1   \n",
       "1          608     Spain  Female   41       1   83807.86              1   \n",
       "2          502    France  Female   42       8  159660.80              3   \n",
       "3          699    France  Female   39       1       0.00              2   \n",
       "4          850     Spain  Female   43       2  125510.82              1   \n",
       "\n",
       "   HasCrCard  IsActiveMember  EstimatedSalary  Exited  \n",
       "0          1               1        101348.88       1  \n",
       "1          0               1        112542.58       0  \n",
       "2          1               0        113931.57       1  \n",
       "3          0               0         93826.63       0  \n",
       "4          1               1         79084.10       0  "
      ]
     },
     "execution_count": 5,
     "metadata": {},
     "output_type": "execute_result"
    }
   ],
   "source": [
    "df.head()"
   ]
  },
  {
   "cell_type": "code",
   "execution_count": 6,
   "metadata": {
    "execution": {
     "iopub.execute_input": "2022-03-06T03:33:36.321542Z",
     "iopub.status.busy": "2022-03-06T03:33:36.320838Z",
     "iopub.status.idle": "2022-03-06T03:33:36.333826Z",
     "shell.execute_reply": "2022-03-06T03:33:36.333097Z",
     "shell.execute_reply.started": "2022-03-06T03:33:36.321507Z"
    }
   },
   "outputs": [
    {
     "data": {
      "text/plain": [
       "France     5014\n",
       "Germany    2509\n",
       "Spain      2477\n",
       "Name: Geography, dtype: int64"
      ]
     },
     "execution_count": 6,
     "metadata": {},
     "output_type": "execute_result"
    }
   ],
   "source": [
    "df['Geography'].value_counts()"
   ]
  },
  {
   "cell_type": "code",
   "execution_count": 7,
   "metadata": {
    "execution": {
     "iopub.execute_input": "2022-03-06T03:33:45.386793Z",
     "iopub.status.busy": "2022-03-06T03:33:45.385967Z",
     "iopub.status.idle": "2022-03-06T03:33:45.395330Z",
     "shell.execute_reply": "2022-03-06T03:33:45.394438Z",
     "shell.execute_reply.started": "2022-03-06T03:33:45.386756Z"
    }
   },
   "outputs": [
    {
     "data": {
      "text/plain": [
       "Male      5457\n",
       "Female    4543\n",
       "Name: Gender, dtype: int64"
      ]
     },
     "execution_count": 7,
     "metadata": {},
     "output_type": "execute_result"
    }
   ],
   "source": [
    "df['Gender'].value_counts()"
   ]
  },
  {
   "cell_type": "code",
   "execution_count": 8,
   "metadata": {},
   "outputs": [
    {
     "data": {
      "text/plain": [
       "0    7963\n",
       "1    2037\n",
       "Name: Exited, dtype: int64"
      ]
     },
     "execution_count": 8,
     "metadata": {},
     "output_type": "execute_result"
    }
   ],
   "source": [
    "df['Exited'].value_counts()"
   ]
  },
  {
   "cell_type": "code",
   "execution_count": 9,
   "metadata": {
    "execution": {
     "iopub.execute_input": "2022-03-06T03:33:54.382275Z",
     "iopub.status.busy": "2022-03-06T03:33:54.381775Z",
     "iopub.status.idle": "2022-03-06T03:33:54.399399Z",
     "shell.execute_reply": "2022-03-06T03:33:54.398368Z",
     "shell.execute_reply.started": "2022-03-06T03:33:54.382234Z"
    }
   },
   "outputs": [],
   "source": [
    "df = pd.get_dummies(df,columns=['Geography','Gender'],drop_first=True)"
   ]
  },
  {
   "cell_type": "code",
   "execution_count": 10,
   "metadata": {
    "execution": {
     "iopub.execute_input": "2022-03-06T03:34:05.465611Z",
     "iopub.status.busy": "2022-03-06T03:34:05.465041Z",
     "iopub.status.idle": "2022-03-06T03:34:05.481994Z",
     "shell.execute_reply": "2022-03-06T03:34:05.481205Z",
     "shell.execute_reply.started": "2022-03-06T03:34:05.465567Z"
    }
   },
   "outputs": [
    {
     "data": {
      "text/html": [
       "<div>\n",
       "<style scoped>\n",
       "    .dataframe tbody tr th:only-of-type {\n",
       "        vertical-align: middle;\n",
       "    }\n",
       "\n",
       "    .dataframe tbody tr th {\n",
       "        vertical-align: top;\n",
       "    }\n",
       "\n",
       "    .dataframe thead th {\n",
       "        text-align: right;\n",
       "    }\n",
       "</style>\n",
       "<table border=\"1\" class=\"dataframe\">\n",
       "  <thead>\n",
       "    <tr style=\"text-align: right;\">\n",
       "      <th></th>\n",
       "      <th>CreditScore</th>\n",
       "      <th>Age</th>\n",
       "      <th>Tenure</th>\n",
       "      <th>Balance</th>\n",
       "      <th>NumOfProducts</th>\n",
       "      <th>HasCrCard</th>\n",
       "      <th>IsActiveMember</th>\n",
       "      <th>EstimatedSalary</th>\n",
       "      <th>Exited</th>\n",
       "      <th>Geography_Germany</th>\n",
       "      <th>Geography_Spain</th>\n",
       "      <th>Gender_Male</th>\n",
       "    </tr>\n",
       "  </thead>\n",
       "  <tbody>\n",
       "    <tr>\n",
       "      <th>0</th>\n",
       "      <td>619</td>\n",
       "      <td>42</td>\n",
       "      <td>2</td>\n",
       "      <td>0.00</td>\n",
       "      <td>1</td>\n",
       "      <td>1</td>\n",
       "      <td>1</td>\n",
       "      <td>101348.88</td>\n",
       "      <td>1</td>\n",
       "      <td>0</td>\n",
       "      <td>0</td>\n",
       "      <td>0</td>\n",
       "    </tr>\n",
       "    <tr>\n",
       "      <th>1</th>\n",
       "      <td>608</td>\n",
       "      <td>41</td>\n",
       "      <td>1</td>\n",
       "      <td>83807.86</td>\n",
       "      <td>1</td>\n",
       "      <td>0</td>\n",
       "      <td>1</td>\n",
       "      <td>112542.58</td>\n",
       "      <td>0</td>\n",
       "      <td>0</td>\n",
       "      <td>1</td>\n",
       "      <td>0</td>\n",
       "    </tr>\n",
       "    <tr>\n",
       "      <th>2</th>\n",
       "      <td>502</td>\n",
       "      <td>42</td>\n",
       "      <td>8</td>\n",
       "      <td>159660.80</td>\n",
       "      <td>3</td>\n",
       "      <td>1</td>\n",
       "      <td>0</td>\n",
       "      <td>113931.57</td>\n",
       "      <td>1</td>\n",
       "      <td>0</td>\n",
       "      <td>0</td>\n",
       "      <td>0</td>\n",
       "    </tr>\n",
       "    <tr>\n",
       "      <th>3</th>\n",
       "      <td>699</td>\n",
       "      <td>39</td>\n",
       "      <td>1</td>\n",
       "      <td>0.00</td>\n",
       "      <td>2</td>\n",
       "      <td>0</td>\n",
       "      <td>0</td>\n",
       "      <td>93826.63</td>\n",
       "      <td>0</td>\n",
       "      <td>0</td>\n",
       "      <td>0</td>\n",
       "      <td>0</td>\n",
       "    </tr>\n",
       "    <tr>\n",
       "      <th>4</th>\n",
       "      <td>850</td>\n",
       "      <td>43</td>\n",
       "      <td>2</td>\n",
       "      <td>125510.82</td>\n",
       "      <td>1</td>\n",
       "      <td>1</td>\n",
       "      <td>1</td>\n",
       "      <td>79084.10</td>\n",
       "      <td>0</td>\n",
       "      <td>0</td>\n",
       "      <td>1</td>\n",
       "      <td>0</td>\n",
       "    </tr>\n",
       "  </tbody>\n",
       "</table>\n",
       "</div>"
      ],
      "text/plain": [
       "   CreditScore  Age  Tenure    Balance  NumOfProducts  HasCrCard  \\\n",
       "0          619   42       2       0.00              1          1   \n",
       "1          608   41       1   83807.86              1          0   \n",
       "2          502   42       8  159660.80              3          1   \n",
       "3          699   39       1       0.00              2          0   \n",
       "4          850   43       2  125510.82              1          1   \n",
       "\n",
       "   IsActiveMember  EstimatedSalary  Exited  Geography_Germany  \\\n",
       "0               1        101348.88       1                  0   \n",
       "1               1        112542.58       0                  0   \n",
       "2               0        113931.57       1                  0   \n",
       "3               0         93826.63       0                  0   \n",
       "4               1         79084.10       0                  0   \n",
       "\n",
       "   Geography_Spain  Gender_Male  \n",
       "0                0            0  \n",
       "1                1            0  \n",
       "2                0            0  \n",
       "3                0            0  \n",
       "4                1            0  "
      ]
     },
     "execution_count": 10,
     "metadata": {},
     "output_type": "execute_result"
    }
   ],
   "source": [
    "df.head()"
   ]
  },
  {
   "cell_type": "code",
   "execution_count": null,
   "metadata": {},
   "outputs": [],
   "source": [
    "df2=scaler.fit_transform(df)\n",
    "df2=pd.DataFrame(df2)"
   ]
  },
  {
   "cell_type": "code",
   "execution_count": null,
   "metadata": {},
   "outputs": [],
   "source": [
    "import joblib\n",
    "scaler_filename = \"scaler.save\"\n",
    "joblib.dump(scaler, scaler_filename) \n",
    "  "
   ]
  },
  {
   "cell_type": "code",
   "execution_count": 12,
   "metadata": {
    "execution": {
     "iopub.execute_input": "2022-03-06T03:34:15.211980Z",
     "iopub.status.busy": "2022-03-06T03:34:15.211214Z",
     "iopub.status.idle": "2022-03-06T03:34:16.378692Z",
     "shell.execute_reply": "2022-03-06T03:34:16.377875Z",
     "shell.execute_reply.started": "2022-03-06T03:34:15.211936Z"
    },
    "scrolled": true
   },
   "outputs": [],
   "source": [
    "X = df.drop(columns=['Exited'])\n",
    "y = df['Exited'].values\n",
    "from sklearn.model_selection import train_test_split\n",
    "X_train,X_test,y_train,y_test = train_test_split(X,y,test_size=0.2,random_state=0,stratify=y)"
   ]
  },
  {
   "cell_type": "code",
   "execution_count": 13,
   "metadata": {},
   "outputs": [
    {
     "name": "stdout",
     "output_type": "stream",
     "text": [
      "clasee 1 =>  407\n",
      "clasee 0 =>  1593\n",
      "X_train => (2000, 11)\n"
     ]
    }
   ],
   "source": [
    "print('clasee 1 => ',sum(y_test==1))\n",
    "print('clasee 0 => ',sum(y_test==0))\n",
    "print('X_train =>',X_test.shape)"
   ]
  },
  {
   "cell_type": "code",
   "execution_count": null,
   "metadata": {},
   "outputs": [],
   "source": [
    "import seaborn as sns\n",
    "sns.countplot(y_train)"
   ]
  },
  {
   "cell_type": "code",
   "execution_count": 14,
   "metadata": {},
   "outputs": [],
   "source": [
    "from sklearn.preprocessing import MinMaxScaler\n",
    "scaler=MinMaxScaler()\n",
    "X_train_scale=pd.DataFrame(scaler.fit_transform(X_train))\n",
    "X_test_scale=pd.DataFrame(scaler.transform(X_test))"
   ]
  },
  {
   "cell_type": "code",
   "execution_count": 15,
   "metadata": {},
   "outputs": [
    {
     "data": {
      "text/plain": [
       "['scaler.save']"
      ]
     },
     "execution_count": 15,
     "metadata": {},
     "output_type": "execute_result"
    }
   ],
   "source": [
    "import joblib\n",
    "scaler_filename = \"scaler.save\"\n",
    "joblib.dump(scaler, scaler_filename) "
   ]
  },
  {
   "cell_type": "code",
   "execution_count": 21,
   "metadata": {},
   "outputs": [
    {
     "name": "stdout",
     "output_type": "stream",
     "text": [
      "Before OverSampling, counts of label '1': 1630\n",
      "Before OverSampling, counts of label '0': 6370 \n",
      "\n",
      "After OverSampling, the shape of train_X: (12740, 11)\n",
      "After OverSampling, the shape of train_y: (12740,) \n",
      "\n",
      "After OverSampling, counts of label '1': 6370\n",
      "After OverSampling, counts of label '0': 6370\n"
     ]
    }
   ],
   "source": [
    "print(\"Before OverSampling, counts of label '1': {}\".format(sum(y_train == 1)))\n",
    "print(\"Before OverSampling, counts of label '0': {} \\n\".format(sum(y_train == 0)))\n",
    "  \n",
    "sm = SMOTE(random_state = 2)\n",
    "X_train_res, y_train_res = sm.fit_resample(X_train_scale, y_train.ravel())\n",
    "  \n",
    "print('After OverSampling, the shape of train_X: {}'.format(X_train_res.shape))\n",
    "print('After OverSampling, the shape of train_y: {} \\n'.format(y_train_res.shape))\n",
    "  \n",
    "print(\"After OverSampling, counts of label '1': {}\".format(sum(y_train_res == 1)))\n",
    "print(\"After OverSampling, counts of label '0': {}\".format(sum(y_train_res == 0)))"
   ]
  },
  {
   "cell_type": "code",
   "execution_count": null,
   "metadata": {},
   "outputs": [],
   "source": [
    "print(X_train.iloc[1])\n"
   ]
  },
  {
   "cell_type": "code",
   "execution_count": null,
   "metadata": {
    "execution": {
     "iopub.execute_input": "2022-03-06T03:34:23.642185Z",
     "iopub.status.busy": "2022-03-06T03:34:23.641345Z",
     "iopub.status.idle": "2022-03-06T03:34:23.656143Z",
     "shell.execute_reply": "2022-03-06T03:34:23.655395Z",
     "shell.execute_reply.started": "2022-03-06T03:34:23.642134Z"
    }
   },
   "outputs": [],
   "source": [
    "from sklearn.preprocessing import StandardScaler\n",
    "scaler = StandardScaler()\n",
    "\n",
    "X_train_trf = scaler.fit_transform(X_train)\n",
    "X_test_trf = scaler.transform(X_test)"
   ]
  },
  {
   "cell_type": "code",
   "execution_count": null,
   "metadata": {},
   "outputs": [],
   "source": []
  },
  {
   "cell_type": "code",
   "execution_count": null,
   "metadata": {},
   "outputs": [],
   "source": [
    "X_train_trf.shape\n"
   ]
  },
  {
   "cell_type": "code",
   "execution_count": 17,
   "metadata": {
    "execution": {
     "iopub.execute_input": "2022-03-06T03:34:31.132229Z",
     "iopub.status.busy": "2022-03-06T03:34:31.131533Z",
     "iopub.status.idle": "2022-03-06T03:34:37.435530Z",
     "shell.execute_reply": "2022-03-06T03:34:37.434835Z",
     "shell.execute_reply.started": "2022-03-06T03:34:31.132167Z"
    }
   },
   "outputs": [],
   "source": [
    "import tensorflow\n",
    "from tensorflow import keras\n",
    "from tensorflow.keras import Sequential \n",
    "from tensorflow.keras.layers import Dense\n",
    "from tensorflow.keras.layers import Dropout\n",
    "from sklearn.metrics import confusion_matrix, classification_report"
   ]
  },
  {
   "cell_type": "code",
   "execution_count": 18,
   "metadata": {
    "execution": {
     "iopub.execute_input": "2022-03-06T03:34:37.826813Z",
     "iopub.status.busy": "2022-03-06T03:34:37.826320Z",
     "iopub.status.idle": "2022-03-06T03:34:37.947521Z",
     "shell.execute_reply": "2022-03-06T03:34:37.946580Z",
     "shell.execute_reply.started": "2022-03-06T03:34:37.826746Z"
    }
   },
   "outputs": [],
   "source": [
    "model = Sequential()\n",
    "\n",
    "model.add(Dense(11,activation='relu',input_dim=11))\n",
    "model.add(Dropout(0.2))\n",
    "model.add(Dense(6,activation='relu'))\n",
    "model.add(Dropout(0.3))\n",
    "model.add(Dense(3,activation='relu'))\n",
    "model.add(Dropout(0.2))\n",
    "model.add(Dense(1,activation='sigmoid'))"
   ]
  },
  {
   "cell_type": "code",
   "execution_count": 19,
   "metadata": {
    "execution": {
     "iopub.execute_input": "2022-03-06T03:34:51.251022Z",
     "iopub.status.busy": "2022-03-06T03:34:51.250291Z",
     "iopub.status.idle": "2022-03-06T03:34:51.258677Z",
     "shell.execute_reply": "2022-03-06T03:34:51.257596Z",
     "shell.execute_reply.started": "2022-03-06T03:34:51.250979Z"
    }
   },
   "outputs": [
    {
     "name": "stdout",
     "output_type": "stream",
     "text": [
      "Model: \"sequential\"\n",
      "_________________________________________________________________\n",
      " Layer (type)                Output Shape              Param #   \n",
      "=================================================================\n",
      " dense (Dense)               (None, 11)                132       \n",
      "                                                                 \n",
      " dropout (Dropout)           (None, 11)                0         \n",
      "                                                                 \n",
      " dense_1 (Dense)             (None, 6)                 72        \n",
      "                                                                 \n",
      " dropout_1 (Dropout)         (None, 6)                 0         \n",
      "                                                                 \n",
      " dense_2 (Dense)             (None, 3)                 21        \n",
      "                                                                 \n",
      " dropout_2 (Dropout)         (None, 3)                 0         \n",
      "                                                                 \n",
      " dense_3 (Dense)             (None, 1)                 4         \n",
      "                                                                 \n",
      "=================================================================\n",
      "Total params: 229\n",
      "Trainable params: 229\n",
      "Non-trainable params: 0\n",
      "_________________________________________________________________\n"
     ]
    }
   ],
   "source": [
    "model.summary()"
   ]
  },
  {
   "cell_type": "code",
   "execution_count": 22,
   "metadata": {
    "execution": {
     "iopub.execute_input": "2022-03-06T03:34:59.301604Z",
     "iopub.status.busy": "2022-03-06T03:34:59.301333Z",
     "iopub.status.idle": "2022-03-06T03:34:59.315593Z",
     "shell.execute_reply": "2022-03-06T03:34:59.314884Z",
     "shell.execute_reply.started": "2022-03-06T03:34:59.301574Z"
    }
   },
   "outputs": [],
   "source": [
    "model.compile(optimizer='Adam',loss='binary_crossentropy',metrics=['accuracy'])"
   ]
  },
  {
   "cell_type": "code",
   "execution_count": 45,
   "metadata": {
    "execution": {
     "iopub.execute_input": "2022-03-06T03:35:50.902485Z",
     "iopub.status.busy": "2022-03-06T03:35:50.901904Z",
     "iopub.status.idle": "2022-03-06T03:36:19.455620Z",
     "shell.execute_reply": "2022-03-06T03:36:19.454726Z",
     "shell.execute_reply.started": "2022-03-06T03:35:50.902437Z"
    }
   },
   "outputs": [
    {
     "name": "stdout",
     "output_type": "stream",
     "text": [
      "Epoch 1/100\n",
      "300/300 [==============================] - 2s 5ms/step - loss: 0.4951 - accuracy: 0.7647 - val_loss: 0.6694 - val_accuracy: 0.6060\n",
      "Epoch 2/100\n",
      "300/300 [==============================] - 1s 4ms/step - loss: 0.4933 - accuracy: 0.7674 - val_loss: 0.6226 - val_accuracy: 0.6413\n",
      "Epoch 3/100\n",
      "300/300 [==============================] - 1s 4ms/step - loss: 0.4911 - accuracy: 0.7695 - val_loss: 0.6216 - val_accuracy: 0.6507\n",
      "Epoch 4/100\n",
      "300/300 [==============================] - 1s 4ms/step - loss: 0.4986 - accuracy: 0.7643 - val_loss: 0.6555 - val_accuracy: 0.6138\n",
      "Epoch 5/100\n",
      "300/300 [==============================] - 1s 4ms/step - loss: 0.4961 - accuracy: 0.7662 - val_loss: 0.6629 - val_accuracy: 0.6111\n",
      "Epoch 6/100\n",
      "300/300 [==============================] - 1s 5ms/step - loss: 0.4907 - accuracy: 0.7668 - val_loss: 0.6071 - val_accuracy: 0.6468\n",
      "Epoch 7/100\n",
      "300/300 [==============================] - 1s 3ms/step - loss: 0.4989 - accuracy: 0.7682 - val_loss: 0.6597 - val_accuracy: 0.6130\n",
      "Epoch 8/100\n",
      "300/300 [==============================] - 1s 4ms/step - loss: 0.4979 - accuracy: 0.7670 - val_loss: 0.6004 - val_accuracy: 0.6468\n",
      "Epoch 9/100\n",
      "300/300 [==============================] - 1s 4ms/step - loss: 0.4902 - accuracy: 0.7669 - val_loss: 0.6679 - val_accuracy: 0.6103\n",
      "Epoch 10/100\n",
      "300/300 [==============================] - 1s 4ms/step - loss: 0.4899 - accuracy: 0.7682 - val_loss: 0.6608 - val_accuracy: 0.6107\n",
      "Epoch 11/100\n",
      "300/300 [==============================] - 1s 3ms/step - loss: 0.4957 - accuracy: 0.7708 - val_loss: 0.6197 - val_accuracy: 0.6244\n",
      "Epoch 12/100\n",
      "300/300 [==============================] - 1s 3ms/step - loss: 0.4909 - accuracy: 0.7708 - val_loss: 0.6455 - val_accuracy: 0.6201\n",
      "Epoch 13/100\n",
      "300/300 [==============================] - 1s 3ms/step - loss: 0.4904 - accuracy: 0.7673 - val_loss: 0.6038 - val_accuracy: 0.6468\n",
      "Epoch 14/100\n",
      "300/300 [==============================] - 1s 3ms/step - loss: 0.4894 - accuracy: 0.7697 - val_loss: 0.6402 - val_accuracy: 0.6185\n",
      "Epoch 15/100\n",
      "300/300 [==============================] - 1s 3ms/step - loss: 0.4863 - accuracy: 0.7715 - val_loss: 0.6675 - val_accuracy: 0.5895\n",
      "Epoch 16/100\n",
      "300/300 [==============================] - 1s 3ms/step - loss: 0.4914 - accuracy: 0.7703 - val_loss: 0.6181 - val_accuracy: 0.6299\n",
      "Epoch 17/100\n",
      "300/300 [==============================] - 1s 3ms/step - loss: 0.4898 - accuracy: 0.7718 - val_loss: 0.6009 - val_accuracy: 0.6484\n",
      "Epoch 18/100\n",
      "300/300 [==============================] - 1s 4ms/step - loss: 0.4854 - accuracy: 0.7765 - val_loss: 0.5885 - val_accuracy: 0.6538\n",
      "Epoch 19/100\n",
      "300/300 [==============================] - 1s 3ms/step - loss: 0.4822 - accuracy: 0.7711 - val_loss: 0.5972 - val_accuracy: 0.6448\n",
      "Epoch 20/100\n",
      "300/300 [==============================] - 1s 5ms/step - loss: 0.4864 - accuracy: 0.7737 - val_loss: 0.6575 - val_accuracy: 0.6099\n",
      "Epoch 21/100\n",
      "300/300 [==============================] - 1s 3ms/step - loss: 0.4915 - accuracy: 0.7720 - val_loss: 0.5940 - val_accuracy: 0.6487\n",
      "Epoch 22/100\n",
      "300/300 [==============================] - 1s 3ms/step - loss: 0.4891 - accuracy: 0.7740 - val_loss: 0.6056 - val_accuracy: 0.6381\n",
      "Epoch 23/100\n",
      "300/300 [==============================] - 1s 3ms/step - loss: 0.4882 - accuracy: 0.7729 - val_loss: 0.5867 - val_accuracy: 0.6605\n",
      "Epoch 24/100\n",
      "300/300 [==============================] - 1s 3ms/step - loss: 0.4859 - accuracy: 0.7769 - val_loss: 0.6061 - val_accuracy: 0.6436\n",
      "Epoch 25/100\n",
      "300/300 [==============================] - 1s 3ms/step - loss: 0.4898 - accuracy: 0.7687 - val_loss: 0.6035 - val_accuracy: 0.6444\n",
      "Epoch 26/100\n",
      "300/300 [==============================] - 1s 4ms/step - loss: 0.4911 - accuracy: 0.7645 - val_loss: 0.6315 - val_accuracy: 0.6166\n",
      "Epoch 27/100\n",
      "300/300 [==============================] - 1s 3ms/step - loss: 0.4912 - accuracy: 0.7727 - val_loss: 0.6214 - val_accuracy: 0.6346\n",
      "Epoch 28/100\n",
      "300/300 [==============================] - 1s 3ms/step - loss: 0.4914 - accuracy: 0.7704 - val_loss: 0.6607 - val_accuracy: 0.5977\n",
      "Epoch 29/100\n",
      "300/300 [==============================] - 1s 3ms/step - loss: 0.4868 - accuracy: 0.7719 - val_loss: 0.5991 - val_accuracy: 0.6480\n",
      "Epoch 30/100\n",
      "300/300 [==============================] - 1s 3ms/step - loss: 0.4843 - accuracy: 0.7728 - val_loss: 0.6643 - val_accuracy: 0.5989\n",
      "Epoch 31/100\n",
      "300/300 [==============================] - 1s 3ms/step - loss: 0.4834 - accuracy: 0.7734 - val_loss: 0.6095 - val_accuracy: 0.6358\n",
      "Epoch 32/100\n",
      "300/300 [==============================] - 1s 3ms/step - loss: 0.4862 - accuracy: 0.7694 - val_loss: 0.6103 - val_accuracy: 0.6389\n",
      "Epoch 33/100\n",
      "300/300 [==============================] - 1s 3ms/step - loss: 0.4860 - accuracy: 0.7702 - val_loss: 0.6113 - val_accuracy: 0.6299\n",
      "Epoch 34/100\n",
      "300/300 [==============================] - 1s 3ms/step - loss: 0.4876 - accuracy: 0.7703 - val_loss: 0.6285 - val_accuracy: 0.6327\n",
      "Epoch 35/100\n",
      "300/300 [==============================] - 1s 3ms/step - loss: 0.4837 - accuracy: 0.7725 - val_loss: 0.6303 - val_accuracy: 0.6205\n",
      "Epoch 36/100\n",
      "300/300 [==============================] - 1s 2ms/step - loss: 0.4834 - accuracy: 0.7773 - val_loss: 0.6255 - val_accuracy: 0.6315\n",
      "Epoch 37/100\n",
      "300/300 [==============================] - 1s 4ms/step - loss: 0.4785 - accuracy: 0.7756 - val_loss: 0.6622 - val_accuracy: 0.5997\n",
      "Epoch 38/100\n",
      "300/300 [==============================] - 1s 4ms/step - loss: 0.4858 - accuracy: 0.7726 - val_loss: 0.5785 - val_accuracy: 0.6566\n",
      "Epoch 39/100\n",
      "300/300 [==============================] - 1s 3ms/step - loss: 0.4863 - accuracy: 0.7767 - val_loss: 0.6264 - val_accuracy: 0.6142\n",
      "Epoch 40/100\n",
      "300/300 [==============================] - 1s 3ms/step - loss: 0.4804 - accuracy: 0.7769 - val_loss: 0.6534 - val_accuracy: 0.6016\n",
      "Epoch 41/100\n",
      "300/300 [==============================] - 1s 3ms/step - loss: 0.4894 - accuracy: 0.7737 - val_loss: 0.6068 - val_accuracy: 0.6362\n",
      "Epoch 42/100\n",
      "300/300 [==============================] - 1s 3ms/step - loss: 0.4875 - accuracy: 0.7702 - val_loss: 0.6396 - val_accuracy: 0.6048\n",
      "Epoch 43/100\n",
      "300/300 [==============================] - 1s 3ms/step - loss: 0.4825 - accuracy: 0.7739 - val_loss: 0.5861 - val_accuracy: 0.6511\n",
      "Epoch 44/100\n",
      "300/300 [==============================] - 1s 3ms/step - loss: 0.4821 - accuracy: 0.7742 - val_loss: 0.5822 - val_accuracy: 0.6527\n",
      "Epoch 45/100\n",
      "300/300 [==============================] - 1s 3ms/step - loss: 0.4794 - accuracy: 0.7749 - val_loss: 0.5712 - val_accuracy: 0.6613\n",
      "Epoch 46/100\n",
      "300/300 [==============================] - 1s 3ms/step - loss: 0.4883 - accuracy: 0.7723 - val_loss: 0.6411 - val_accuracy: 0.6048\n",
      "Epoch 47/100\n",
      "300/300 [==============================] - 1s 3ms/step - loss: 0.4818 - accuracy: 0.7721 - val_loss: 0.6263 - val_accuracy: 0.6150\n",
      "Epoch 48/100\n",
      "300/300 [==============================] - 1s 3ms/step - loss: 0.4855 - accuracy: 0.7727 - val_loss: 0.6091 - val_accuracy: 0.6444\n",
      "Epoch 49/100\n",
      "300/300 [==============================] - 1s 3ms/step - loss: 0.4856 - accuracy: 0.7740 - val_loss: 0.6459 - val_accuracy: 0.6079\n",
      "Epoch 50/100\n",
      "300/300 [==============================] - 1s 3ms/step - loss: 0.4821 - accuracy: 0.7728 - val_loss: 0.6191 - val_accuracy: 0.6319\n",
      "Epoch 51/100\n",
      "300/300 [==============================] - 1s 3ms/step - loss: 0.4878 - accuracy: 0.7744 - val_loss: 0.6108 - val_accuracy: 0.6389\n",
      "Epoch 52/100\n",
      "300/300 [==============================] - 1s 3ms/step - loss: 0.4839 - accuracy: 0.7733 - val_loss: 0.6708 - val_accuracy: 0.5958\n",
      "Epoch 53/100\n",
      "300/300 [==============================] - 1s 3ms/step - loss: 0.4826 - accuracy: 0.7702 - val_loss: 0.5624 - val_accuracy: 0.6644\n",
      "Epoch 54/100\n",
      "300/300 [==============================] - 1s 4ms/step - loss: 0.4824 - accuracy: 0.7746 - val_loss: 0.5725 - val_accuracy: 0.6648\n",
      "Epoch 55/100\n",
      "300/300 [==============================] - 1s 4ms/step - loss: 0.4792 - accuracy: 0.7764 - val_loss: 0.6099 - val_accuracy: 0.6244\n",
      "Epoch 56/100\n",
      "300/300 [==============================] - 1s 4ms/step - loss: 0.4839 - accuracy: 0.7748 - val_loss: 0.6025 - val_accuracy: 0.6413\n",
      "Epoch 57/100\n",
      "300/300 [==============================] - 1s 4ms/step - loss: 0.4850 - accuracy: 0.7700 - val_loss: 0.5598 - val_accuracy: 0.6648\n"
     ]
    },
    {
     "name": "stdout",
     "output_type": "stream",
     "text": [
      "Epoch 58/100\n",
      "300/300 [==============================] - 1s 4ms/step - loss: 0.4850 - accuracy: 0.7746 - val_loss: 0.6197 - val_accuracy: 0.6205\n",
      "Epoch 59/100\n",
      "300/300 [==============================] - 1s 3ms/step - loss: 0.4781 - accuracy: 0.7763 - val_loss: 0.5941 - val_accuracy: 0.6468\n",
      "Epoch 60/100\n",
      "300/300 [==============================] - 1s 3ms/step - loss: 0.4850 - accuracy: 0.7714 - val_loss: 0.6436 - val_accuracy: 0.6115\n",
      "Epoch 61/100\n",
      "300/300 [==============================] - 1s 3ms/step - loss: 0.4841 - accuracy: 0.7749 - val_loss: 0.6096 - val_accuracy: 0.6330\n",
      "Epoch 62/100\n",
      "300/300 [==============================] - 1s 3ms/step - loss: 0.4870 - accuracy: 0.7731 - val_loss: 0.6005 - val_accuracy: 0.6330\n",
      "Epoch 63/100\n",
      "300/300 [==============================] - 1s 3ms/step - loss: 0.4818 - accuracy: 0.7732 - val_loss: 0.5893 - val_accuracy: 0.6436\n",
      "Epoch 64/100\n",
      "300/300 [==============================] - 1s 3ms/step - loss: 0.4780 - accuracy: 0.7744 - val_loss: 0.5871 - val_accuracy: 0.6531\n",
      "Epoch 65/100\n",
      "300/300 [==============================] - 1s 3ms/step - loss: 0.4821 - accuracy: 0.7733 - val_loss: 0.6024 - val_accuracy: 0.6385\n",
      "Epoch 66/100\n",
      "300/300 [==============================] - 1s 3ms/step - loss: 0.4789 - accuracy: 0.7750 - val_loss: 0.6095 - val_accuracy: 0.6362\n",
      "Epoch 67/100\n",
      "300/300 [==============================] - 1s 3ms/step - loss: 0.4857 - accuracy: 0.7726 - val_loss: 0.6312 - val_accuracy: 0.6193\n",
      "Epoch 68/100\n",
      "300/300 [==============================] - 1s 3ms/step - loss: 0.4808 - accuracy: 0.7758 - val_loss: 0.5962 - val_accuracy: 0.6366\n",
      "Epoch 69/100\n",
      "300/300 [==============================] - 1s 3ms/step - loss: 0.4796 - accuracy: 0.7749 - val_loss: 0.6244 - val_accuracy: 0.6272\n",
      "Epoch 70/100\n",
      "300/300 [==============================] - 1s 3ms/step - loss: 0.4820 - accuracy: 0.7757 - val_loss: 0.6297 - val_accuracy: 0.6028\n",
      "Epoch 71/100\n",
      "300/300 [==============================] - 1s 3ms/step - loss: 0.4754 - accuracy: 0.7765 - val_loss: 0.5905 - val_accuracy: 0.6523\n",
      "Epoch 72/100\n",
      "300/300 [==============================] - 1s 3ms/step - loss: 0.4801 - accuracy: 0.7710 - val_loss: 0.5817 - val_accuracy: 0.6617\n",
      "Epoch 73/100\n",
      "300/300 [==============================] - 1s 3ms/step - loss: 0.4804 - accuracy: 0.7732 - val_loss: 0.5862 - val_accuracy: 0.6519\n",
      "Epoch 74/100\n",
      "300/300 [==============================] - 1s 3ms/step - loss: 0.4851 - accuracy: 0.7728 - val_loss: 0.6606 - val_accuracy: 0.6068\n",
      "Epoch 75/100\n",
      "300/300 [==============================] - 1s 3ms/step - loss: 0.4784 - accuracy: 0.7788 - val_loss: 0.6115 - val_accuracy: 0.6460\n",
      "Epoch 76/100\n",
      "300/300 [==============================] - 1s 3ms/step - loss: 0.4821 - accuracy: 0.7740 - val_loss: 0.6445 - val_accuracy: 0.6119\n",
      "Epoch 77/100\n",
      "300/300 [==============================] - 1s 3ms/step - loss: 0.4825 - accuracy: 0.7735 - val_loss: 0.5214 - val_accuracy: 0.6962\n",
      "Epoch 78/100\n",
      "300/300 [==============================] - 1s 3ms/step - loss: 0.4790 - accuracy: 0.7735 - val_loss: 0.6043 - val_accuracy: 0.6456\n",
      "Epoch 79/100\n",
      "300/300 [==============================] - 1s 3ms/step - loss: 0.4823 - accuracy: 0.7728 - val_loss: 0.6614 - val_accuracy: 0.6052\n",
      "Epoch 80/100\n",
      "300/300 [==============================] - 1s 3ms/step - loss: 0.4776 - accuracy: 0.7755 - val_loss: 0.6219 - val_accuracy: 0.6378\n",
      "Epoch 81/100\n",
      "300/300 [==============================] - 1s 3ms/step - loss: 0.4782 - accuracy: 0.7726 - val_loss: 0.5951 - val_accuracy: 0.6476\n",
      "Epoch 82/100\n",
      "300/300 [==============================] - 1s 3ms/step - loss: 0.4749 - accuracy: 0.7792 - val_loss: 0.6171 - val_accuracy: 0.6460\n",
      "Epoch 83/100\n",
      "300/300 [==============================] - 1s 3ms/step - loss: 0.4798 - accuracy: 0.7752 - val_loss: 0.5926 - val_accuracy: 0.6566\n",
      "Epoch 84/100\n",
      "300/300 [==============================] - 1s 3ms/step - loss: 0.4827 - accuracy: 0.7723 - val_loss: 0.5948 - val_accuracy: 0.6542\n",
      "Epoch 85/100\n",
      "300/300 [==============================] - 1s 3ms/step - loss: 0.4812 - accuracy: 0.7764 - val_loss: 0.6075 - val_accuracy: 0.6448\n",
      "Epoch 86/100\n",
      "300/300 [==============================] - 1s 3ms/step - loss: 0.4822 - accuracy: 0.7734 - val_loss: 0.5410 - val_accuracy: 0.6845\n",
      "Epoch 87/100\n",
      "300/300 [==============================] - 1s 3ms/step - loss: 0.4757 - accuracy: 0.7806 - val_loss: 0.6107 - val_accuracy: 0.6287\n",
      "Epoch 88/100\n",
      "300/300 [==============================] - 1s 3ms/step - loss: 0.4779 - accuracy: 0.7765 - val_loss: 0.5657 - val_accuracy: 0.6735\n",
      "Epoch 89/100\n",
      "300/300 [==============================] - 1s 3ms/step - loss: 0.4767 - accuracy: 0.7761 - val_loss: 0.6039 - val_accuracy: 0.6374\n",
      "Epoch 90/100\n",
      "300/300 [==============================] - 1s 3ms/step - loss: 0.4763 - accuracy: 0.7769 - val_loss: 0.6336 - val_accuracy: 0.6224\n",
      "Epoch 91/100\n",
      "300/300 [==============================] - 1s 3ms/step - loss: 0.4830 - accuracy: 0.7754 - val_loss: 0.5941 - val_accuracy: 0.6429\n",
      "Epoch 92/100\n",
      "300/300 [==============================] - 1s 3ms/step - loss: 0.4805 - accuracy: 0.7752 - val_loss: 0.5605 - val_accuracy: 0.6719\n",
      "Epoch 93/100\n",
      "300/300 [==============================] - 1s 3ms/step - loss: 0.4805 - accuracy: 0.7734 - val_loss: 0.6076 - val_accuracy: 0.6342\n",
      "Epoch 94/100\n",
      "300/300 [==============================] - 1s 3ms/step - loss: 0.4768 - accuracy: 0.7792 - val_loss: 0.6141 - val_accuracy: 0.6342\n",
      "Epoch 95/100\n",
      "300/300 [==============================] - 1s 3ms/step - loss: 0.4777 - accuracy: 0.7791 - val_loss: 0.5958 - val_accuracy: 0.6464\n",
      "Epoch 96/100\n",
      "300/300 [==============================] - 1s 3ms/step - loss: 0.4792 - accuracy: 0.7777 - val_loss: 0.6005 - val_accuracy: 0.6527\n",
      "Epoch 97/100\n",
      "300/300 [==============================] - 1s 3ms/step - loss: 0.4807 - accuracy: 0.7786 - val_loss: 0.6355 - val_accuracy: 0.6122\n",
      "Epoch 98/100\n",
      "300/300 [==============================] - 1s 3ms/step - loss: 0.4806 - accuracy: 0.7742 - val_loss: 0.6157 - val_accuracy: 0.6197\n",
      "Epoch 99/100\n",
      "300/300 [==============================] - 1s 3ms/step - loss: 0.4839 - accuracy: 0.7696 - val_loss: 0.5972 - val_accuracy: 0.6366\n",
      "Epoch 100/100\n",
      "300/300 [==============================] - 1s 3ms/step - loss: 0.4763 - accuracy: 0.7790 - val_loss: 0.5839 - val_accuracy: 0.6542\n"
     ]
    }
   ],
   "source": [
    "history = model.fit(X_train_res,y_train_res,batch_size=34,epochs=100,verbose=1,validation_split=0.2)"
   ]
  },
  {
   "cell_type": "code",
   "execution_count": 46,
   "metadata": {
    "execution": {
     "iopub.execute_input": "2022-03-06T03:36:33.569903Z",
     "iopub.status.busy": "2022-03-06T03:36:33.569599Z",
     "iopub.status.idle": "2022-03-06T03:36:33.770856Z",
     "shell.execute_reply": "2022-03-06T03:36:33.770114Z",
     "shell.execute_reply.started": "2022-03-06T03:36:33.569868Z"
    }
   },
   "outputs": [],
   "source": [
    "y_pred = model.predict(X_test_scale)"
   ]
  },
  {
   "cell_type": "code",
   "execution_count": 47,
   "metadata": {
    "execution": {
     "iopub.execute_input": "2022-03-06T03:36:43.782192Z",
     "iopub.status.busy": "2022-03-06T03:36:43.781671Z",
     "iopub.status.idle": "2022-03-06T03:36:43.789507Z",
     "shell.execute_reply": "2022-03-06T03:36:43.788484Z",
     "shell.execute_reply.started": "2022-03-06T03:36:43.782156Z"
    }
   },
   "outputs": [
    {
     "data": {
      "text/plain": [
       "array([[0.44297487],\n",
       "       [0.24496949],\n",
       "       [0.11413774],\n",
       "       ...,\n",
       "       [0.10081372],\n",
       "       [0.9999912 ],\n",
       "       [0.15878317]], dtype=float32)"
      ]
     },
     "execution_count": 47,
     "metadata": {},
     "output_type": "execute_result"
    }
   ],
   "source": [
    "y_pred"
   ]
  },
  {
   "cell_type": "code",
   "execution_count": 48,
   "metadata": {
    "execution": {
     "iopub.execute_input": "2022-03-06T03:36:53.420271Z",
     "iopub.status.busy": "2022-03-06T03:36:53.419840Z",
     "iopub.status.idle": "2022-03-06T03:36:53.425184Z",
     "shell.execute_reply": "2022-03-06T03:36:53.424317Z",
     "shell.execute_reply.started": "2022-03-06T03:36:53.420233Z"
    }
   },
   "outputs": [
    {
     "data": {
      "text/plain": [
       "array([[0],\n",
       "       [0],\n",
       "       [0],\n",
       "       [1],\n",
       "       [0],\n",
       "       [0],\n",
       "       [0],\n",
       "       [0],\n",
       "       [0],\n",
       "       [0]])"
      ]
     },
     "execution_count": 48,
     "metadata": {},
     "output_type": "execute_result"
    }
   ],
   "source": [
    "y_pred = np.where(y_pred>0.5,1,0)\n",
    "y_pred[:10]"
   ]
  },
  {
   "cell_type": "code",
   "execution_count": 49,
   "metadata": {},
   "outputs": [
    {
     "data": {
      "text/plain": [
       "array([1, 0, 0, 1, 1, 1, 0, 0, 1, 0], dtype=int64)"
      ]
     },
     "execution_count": 49,
     "metadata": {},
     "output_type": "execute_result"
    }
   ],
   "source": [
    "y_test[:10]"
   ]
  },
  {
   "cell_type": "code",
   "execution_count": 50,
   "metadata": {
    "execution": {
     "iopub.execute_input": "2022-03-06T03:37:01.490157Z",
     "iopub.status.busy": "2022-03-06T03:37:01.489866Z",
     "iopub.status.idle": "2022-03-06T03:37:01.498513Z",
     "shell.execute_reply": "2022-03-06T03:37:01.497608Z",
     "shell.execute_reply.started": "2022-03-06T03:37:01.490129Z"
    }
   },
   "outputs": [
    {
     "data": {
      "text/plain": [
       "0.838"
      ]
     },
     "execution_count": 50,
     "metadata": {},
     "output_type": "execute_result"
    }
   ],
   "source": [
    "from sklearn.metrics import accuracy_score\n",
    "accuracy_score(y_test,y_pred)"
   ]
  },
  {
   "cell_type": "code",
   "execution_count": 51,
   "metadata": {},
   "outputs": [
    {
     "name": "stdout",
     "output_type": "stream",
     "text": [
      "              precision    recall  f1-score   support\n",
      "\n",
      "           0       0.90      0.90      0.90      1593\n",
      "           1       0.60      0.59      0.60       407\n",
      "\n",
      "    accuracy                           0.84      2000\n",
      "   macro avg       0.75      0.75      0.75      2000\n",
      "weighted avg       0.84      0.84      0.84      2000\n",
      "\n"
     ]
    }
   ],
   "source": [
    "print(classification_report(y_test, y_pred))"
   ]
  },
  {
   "cell_type": "code",
   "execution_count": 52,
   "metadata": {
    "execution": {
     "iopub.execute_input": "2022-03-06T03:37:10.534504Z",
     "iopub.status.busy": "2022-03-06T03:37:10.534076Z",
     "iopub.status.idle": "2022-03-06T03:37:10.742592Z",
     "shell.execute_reply": "2022-03-06T03:37:10.741662Z",
     "shell.execute_reply.started": "2022-03-06T03:37:10.534473Z"
    }
   },
   "outputs": [
    {
     "data": {
      "text/plain": [
       "[<matplotlib.lines.Line2D at 0x146463f0a60>]"
      ]
     },
     "execution_count": 52,
     "metadata": {},
     "output_type": "execute_result"
    },
    {
     "data": {
      "image/png": "[encoded data removed]",
      "text/plain": [
       "<Figure size 432x288 with 1 Axes>"
      ]
     },
     "metadata": {
      "needs_background": "light"
     },
     "output_type": "display_data"
    }
   ],
   "source": [
    "import matplotlib.pyplot as plt\n",
    "\n",
    "plt.plot(history.history['loss'])\n",
    "plt.plot(history.history['val_loss'])"
   ]
  },
  {
   "cell_type": "code",
   "execution_count": 53,
   "metadata": {
    "execution": {
     "iopub.execute_input": "2022-03-06T03:37:24.164195Z",
     "iopub.status.busy": "2022-03-06T03:37:24.163624Z",
     "iopub.status.idle": "2022-03-06T03:37:24.378329Z",
     "shell.execute_reply": "2022-03-06T03:37:24.377501Z",
     "shell.execute_reply.started": "2022-03-06T03:37:24.164150Z"
    }
   },
   "outputs": [
    {
     "data": {
      "text/plain": [
       "[<matplotlib.lines.Line2D at 0x14649e91070>]"
      ]
     },
     "execution_count": 53,
     "metadata": {},
     "output_type": "execute_result"
    },
    {
     "data": {
      "image/png": "[encoded data removed]",
      "text/plain": [
       "<Figure size 432x288 with 1 Axes>"
      ]
     },
     "metadata": {
      "needs_background": "light"
     },
     "output_type": "display_data"
    }
   ],
   "source": [
    "plt.plot(history.history['accuracy'])\n",
    "plt.plot(history.history['val_accuracy'])"
   ]
  },
  {
   "cell_type": "code",
   "execution_count": null,
   "metadata": {},
   "outputs": [],
   "source": []
  },
  {
   "cell_type": "code",
   "execution_count": null,
   "metadata": {},
   "outputs": [],
   "source": [
    "from keras.models import load_model\n",
    "loaded_model = load_model(\"network.h5\")\n",
    "y_pred = loaded_model.predict(X_test)\n",
    "y_pred_scale = np.where(y_pred>0.5,1,0)\n",
    "y_pred_scale[:10]"
   ]
  },
  {
   "cell_type": "code",
   "execution_count": null,
   "metadata": {},
   "outputs": [],
   "source": [
    "y_test[:10]"
   ]
  },
  {
   "cell_type": "code",
   "execution_count": null,
   "metadata": {},
   "outputs": [],
   "source": [
    "from sklearn.metrics import accuracy_score\n",
    "accuracy_score(y_test,y_pred_scale)"
   ]
  },
  {
   "cell_type": "code",
   "execution_count": null,
   "metadata": {},
   "outputs": [],
   "source": [
    "print(classification_report(y_test, y_pred_scale))"
   ]
  },
  {
   "cell_type": "code",
   "execution_count": null,
   "metadata": {},
   "outputs": [],
   "source": []
  },
  {
   "cell_type": "code",
   "execution_count": null,
   "metadata": {},
   "outputs": [],
   "source": []
  }
 ],
 "metadata": {
  "kernelspec": {
   "display_name": "Python 3 (ipykernel)",
   "language": "python",
   "name": "python3"
  },
  "language_info": {
   "codemirror_mode": {
    "name": "ipython",
    "version": 3
   },
   "file_extension": ".py",
   "mimetype": "text/x-python",
   "name": "python",
   "nbconvert_exporter": "python",
   "pygments_lexer": "ipython3",
   "version": "3.9.7"
  }
 },
 "nbformat": 4,
 "nbformat_minor": 4
}
