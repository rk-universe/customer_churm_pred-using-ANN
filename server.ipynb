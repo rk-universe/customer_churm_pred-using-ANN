{
 "cells": [
  {
   "cell_type": "code",
   "execution_count": 1,
   "id": "8f293a7d",
   "metadata": {},
   "outputs": [],
   "source": [
    "from flask import Flask,request,app,jsonify,render_template\n",
    "import numpy as np\n",
    "import pandas as pd\n",
    "import joblib\n",
    "import tensorflow\n",
    "from tensorflow import keras\n",
    "from keras.models import load_model\n"
   ]
  },
  {
   "cell_type": "code",
   "execution_count": 7,
   "id": "c03152c6",
   "metadata": {
    "scrolled": true
   },
   "outputs": [
    {
     "name": "stdout",
     "output_type": "stream",
     "text": [
      " * Serving Flask app \"__main__\" (lazy loading)\n",
      " * Environment: production\n",
      "\u001b[31m   WARNING: This is a development server. Do not use it in a production deployment.\u001b[0m\n",
      "\u001b[2m   Use a production WSGI server instead.\u001b[0m\n",
      " * Debug mode: off\n"
     ]
    },
    {
     "name": "stderr",
     "output_type": "stream",
     "text": [
      " * Running on http://127.0.0.1:5000/ (Press CTRL+C to quit)\n",
      "127.0.0.1 - - [13/Apr/2023 01:25:49] \"GET / HTTP/1.1\" 200 -\n",
      "C:\\Users\\rahul\\anaconda3\\lib\\site-packages\\sklearn\\base.py:439: UserWarning: X does not have valid feature names, but MinMaxScaler was fitted with feature names\n",
      "  warnings.warn(\n",
      "127.0.0.1 - - [13/Apr/2023 01:26:10] \"POST /predict_api HTTP/1.1\" 200 -\n"
     ]
    },
    {
     "name": "stdout",
     "output_type": "stream",
     "text": [
      "req ImmutableMultiDict([('CreditScore', '500'), ('Age', '23'), ('Tenure', '4'), ('Balance', '100000'), ('NumOfProducts', '1'), ('HasCrCard', '1'), ('IsActiveMember', '1'), ('EstimatedSalary', '100000'), ('Geography_Germany', '0'), ('Geography_Spain', '0'), ('Gender_Male', '1')])\n",
      "req.value <generator object MultiDict.values at 0x0000024858BAF9E0>\n",
      "[500.0, 23.0, 4.0, 100000.0, 1.0, 1.0, 1.0, 100000.0, 0.0, 0.0, 1.0]\n",
      "output is  [0.05687258]\n",
      "NO, Will Not Exit The Company Soon\n"
     ]
    }
   ],
   "source": [
    "app=Flask(__name__)\n",
    "loaded_model = load_model(\"network.h5\")\n",
    "scaler = joblib.load('scaler.save')\n",
    "@app.route('/')\n",
    "def home():\n",
    "    return render_template('index.html')\n",
    "@app.route('/predict_api',methods=['POST'])\n",
    "def predict_api():\n",
    "    req=request.form\n",
    "    print(\"req\",req)\n",
    "    print(\"req.value\",req.values())\n",
    "    data=[float(x) for x in req.values()]\n",
    "    print(data)\n",
    "    new_data=np.array(list(data)).reshape(1,-1)\n",
    "    scale_data=scaler.transform(new_data)\n",
    "    output=loaded_model.predict(scale_data)[0]\n",
    "    print(\"output is \",output)\n",
    "    if(output>=0.5):\n",
    "        out='YES, Will Exit The Bank Soon '\n",
    "    else:\n",
    "        out='NO, Will Not Exit The Company Soon'\n",
    "    print(out)\n",
    "    \n",
    "    return render_template('index.html',predection_test=out)\n",
    "\n",
    "if __name__==\"__main__\":\n",
    "    app.run()"
   ]
  },
  {
   "cell_type": "code",
   "execution_count": null,
   "id": "74aa4d15",
   "metadata": {},
   "outputs": [],
   "source": []
  }
 ],
 "metadata": {
  "kernelspec": {
   "display_name": "Python 3 (ipykernel)",
   "language": "python",
   "name": "python3"
  },
  "language_info": {
   "codemirror_mode": {
    "name": "ipython",
    "version": 3
   },
   "file_extension": ".py",
   "mimetype": "text/x-python",
   "name": "python",
   "nbconvert_exporter": "python",
   "pygments_lexer": "ipython3",
   "version": "3.9.7"
  }
 },
 "nbformat": 4,
 "nbformat_minor": 5
}
